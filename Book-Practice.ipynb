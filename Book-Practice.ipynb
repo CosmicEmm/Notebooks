{
 "cells": [
  {
   "cell_type": "code",
   "execution_count": 1,
   "id": "1bfb968f",
   "metadata": {},
   "outputs": [
    {
     "data": {
      "text/plain": [
       "'Hi Friend'"
      ]
     },
     "execution_count": 1,
     "metadata": {},
     "output_type": "execute_result"
    }
   ],
   "source": [
    "\"Hi Friend\""
   ]
  },
  {
   "cell_type": "code",
   "execution_count": 2,
   "id": "be6956f8",
   "metadata": {},
   "outputs": [],
   "source": [
    "f = open('files/note.txt', 'r')"
   ]
  },
  {
   "cell_type": "markdown",
   "id": "c66a1da0",
   "metadata": {},
   "source": [
    "### open() Function\n",
    "- It's a built-in function in Python.\n",
    "- It opens a file, and returns it as a file object."
   ]
  },
  {
   "cell_type": "code",
   "execution_count": 3,
   "id": "dd8fe757",
   "metadata": {},
   "outputs": [
    {
     "data": {
      "text/plain": [
       "'The trick is to never stop looking. There is always another secret.'"
      ]
     },
     "execution_count": 3,
     "metadata": {},
     "output_type": "execute_result"
    }
   ],
   "source": [
    "f.read() # read() is a method available for the file object. It returns the file content."
   ]
  },
  {
   "cell_type": "code",
   "execution_count": 4,
   "id": "f8e731e7",
   "metadata": {},
   "outputs": [],
   "source": [
    "f.close()"
   ]
  },
  {
   "cell_type": "code",
   "execution_count": 5,
   "id": "818dbdd9",
   "metadata": {},
   "outputs": [],
   "source": [
    "an_apple = 27"
   ]
  },
  {
   "cell_type": "code",
   "execution_count": 6,
   "id": "4698ced0",
   "metadata": {},
   "outputs": [],
   "source": [
    "an_example = 42"
   ]
  },
  {
   "cell_type": "markdown",
   "id": "ca787630",
   "metadata": {},
   "source": [
    "### Tab Completion\n",
    "Pressing the Tab key will search the namespace for any variables (objects, functions, etc.) matching the characters you have typed so far and show the results in a convenient drop-down menu."
   ]
  },
  {
   "cell_type": "code",
   "execution_count": 7,
   "id": "7cbb759b",
   "metadata": {},
   "outputs": [
    {
     "data": {
      "text/plain": [
       "(27, 42)"
      ]
     },
     "execution_count": 7,
     "metadata": {},
     "output_type": "execute_result"
    }
   ],
   "source": [
    "an_apple, an_example"
   ]
  },
  {
   "cell_type": "code",
   "execution_count": 8,
   "id": "7391bf30",
   "metadata": {},
   "outputs": [],
   "source": [
    "b = [1, 2, 3]"
   ]
  },
  {
   "cell_type": "code",
   "execution_count": 9,
   "id": "52270f9b",
   "metadata": {},
   "outputs": [
    {
     "data": {
      "text/plain": [
       "2"
      ]
     },
     "execution_count": 9,
     "metadata": {},
     "output_type": "execute_result"
    }
   ],
   "source": [
    "b.index(3)"
   ]
  },
  {
   "cell_type": "code",
   "execution_count": 10,
   "id": "caa850f4",
   "metadata": {},
   "outputs": [],
   "source": [
    "import random"
   ]
  },
  {
   "cell_type": "code",
   "execution_count": 11,
   "id": "b9931303",
   "metadata": {},
   "outputs": [
    {
     "data": {
      "text/plain": [
       "22"
      ]
     },
     "execution_count": 11,
     "metadata": {},
     "output_type": "execute_result"
    }
   ],
   "source": [
    "random.randint(1, 90)"
   ]
  },
  {
   "cell_type": "code",
   "execution_count": 12,
   "id": "c7ecb38b",
   "metadata": {},
   "outputs": [],
   "source": [
    "def student(name='Emm', birth_year=1996, gender='male'):\n",
    "    name = name\n",
    "    age = 2024-birth_year\n",
    "    gender = gender\n",
    "    return f\"My name is {name} and I'm a {age} years old {gender}.\""
   ]
  },
  {
   "cell_type": "markdown",
   "id": "c94a81c7",
   "metadata": {},
   "source": [
    "Tab completion saves time is in the completion of function keyword arguments (including the = sign!)"
   ]
  },
  {
   "cell_type": "code",
   "execution_count": 13,
   "id": "e9712f0a",
   "metadata": {},
   "outputs": [
    {
     "data": {
      "text/plain": [
       "\"My name is Elon and I'm a 28 years old male.\""
      ]
     },
     "execution_count": 13,
     "metadata": {},
     "output_type": "execute_result"
    }
   ],
   "source": [
    "student(name='Elon')"
   ]
  },
  {
   "cell_type": "code",
   "execution_count": 14,
   "id": "6e8cfee1",
   "metadata": {},
   "outputs": [],
   "source": [
    "b = [1, 2, 3]"
   ]
  },
  {
   "cell_type": "code",
   "execution_count": 15,
   "id": "b36a0a7c",
   "metadata": {},
   "outputs": [
    {
     "data": {
      "text/plain": [
       "\u001b[1;31mType:\u001b[0m        list\n",
       "\u001b[1;31mString form:\u001b[0m [1, 2, 3]\n",
       "\u001b[1;31mLength:\u001b[0m      3\n",
       "\u001b[1;31mDocstring:\u001b[0m  \n",
       "Built-in mutable sequence.\n",
       "\n",
       "If no argument is given, the constructor creates a new empty list.\n",
       "The argument must be an iterable if specified."
      ]
     },
     "metadata": {},
     "output_type": "display_data"
    }
   ],
   "source": [
    "b?"
   ]
  },
  {
   "cell_type": "code",
   "execution_count": 16,
   "id": "b21d2e05",
   "metadata": {},
   "outputs": [
    {
     "data": {
      "text/plain": [
       "\u001b[1;31mSignature:\u001b[0m \u001b[0mprint\u001b[0m\u001b[1;33m(\u001b[0m\u001b[1;33m*\u001b[0m\u001b[0margs\u001b[0m\u001b[1;33m,\u001b[0m \u001b[0msep\u001b[0m\u001b[1;33m=\u001b[0m\u001b[1;34m' '\u001b[0m\u001b[1;33m,\u001b[0m \u001b[0mend\u001b[0m\u001b[1;33m=\u001b[0m\u001b[1;34m'\\n'\u001b[0m\u001b[1;33m,\u001b[0m \u001b[0mfile\u001b[0m\u001b[1;33m=\u001b[0m\u001b[1;32mNone\u001b[0m\u001b[1;33m,\u001b[0m \u001b[0mflush\u001b[0m\u001b[1;33m=\u001b[0m\u001b[1;32mFalse\u001b[0m\u001b[1;33m)\u001b[0m\u001b[1;33m\u001b[0m\u001b[1;33m\u001b[0m\u001b[0m\n",
       "\u001b[1;31mDocstring:\u001b[0m\n",
       "Prints the values to a stream, or to sys.stdout by default.\n",
       "\n",
       "sep\n",
       "  string inserted between values, default a space.\n",
       "end\n",
       "  string appended after the last value, default a newline.\n",
       "file\n",
       "  a file-like object (stream); defaults to the current sys.stdout.\n",
       "flush\n",
       "  whether to forcibly flush the stream.\n",
       "\u001b[1;31mType:\u001b[0m      builtin_function_or_method"
      ]
     },
     "metadata": {},
     "output_type": "display_data"
    }
   ],
   "source": [
    "print?"
   ]
  },
  {
   "cell_type": "code",
   "execution_count": 17,
   "id": "d7c813ff",
   "metadata": {},
   "outputs": [],
   "source": [
    "def add_numbers(a, b):\n",
    "    \"\"\"\n",
    "    Adds two numbers and returns the result.\n",
    "    \n",
    "    Args:\n",
    "        a (int): The first number.\n",
    "        b (int): The second number.\n",
    "    \n",
    "    Returns:\n",
    "        int: The sum of a and b.\n",
    "    \"\"\"\n",
    "    return a + b"
   ]
  },
  {
   "cell_type": "code",
   "execution_count": 18,
   "id": "c1d32ebd",
   "metadata": {},
   "outputs": [
    {
     "data": {
      "text/plain": [
       "'\\nAdds two numbers and returns the result.\\n\\nArgs:\\n    a (int): The first number.\\n    b (int): The second number.\\n\\nReturns:\\n    int: The sum of a and b.\\n'"
      ]
     },
     "execution_count": 18,
     "metadata": {},
     "output_type": "execute_result"
    }
   ],
   "source": [
    "add_numbers.__doc__"
   ]
  },
  {
   "cell_type": "code",
   "execution_count": 19,
   "id": "7a2adcc4",
   "metadata": {},
   "outputs": [
    {
     "name": "stdout",
     "output_type": "stream",
     "text": [
      "Help on function add_numbers in module __main__:\n",
      "\n",
      "add_numbers(a, b)\n",
      "    Adds two numbers and returns the result.\n",
      "\n",
      "    Args:\n",
      "        a (int): The first number.\n",
      "        b (int): The second number.\n",
      "\n",
      "    Returns:\n",
      "        int: The sum of a and b.\n",
      "\n"
     ]
    }
   ],
   "source": [
    "help(add_numbers)"
   ]
  },
  {
   "cell_type": "code",
   "execution_count": 20,
   "id": "d6799bcb",
   "metadata": {},
   "outputs": [
    {
     "data": {
      "text/plain": [
       "\u001b[1;31mSignature:\u001b[0m \u001b[0madd_numbers\u001b[0m\u001b[1;33m(\u001b[0m\u001b[0ma\u001b[0m\u001b[1;33m,\u001b[0m \u001b[0mb\u001b[0m\u001b[1;33m)\u001b[0m\u001b[1;33m\u001b[0m\u001b[1;33m\u001b[0m\u001b[0m\n",
       "\u001b[1;31mDocstring:\u001b[0m\n",
       "Adds two numbers and returns the result.\n",
       "\n",
       "Args:\n",
       "    a (int): The first number.\n",
       "    b (int): The second number.\n",
       "\n",
       "Returns:\n",
       "    int: The sum of a and b.\n",
       "\u001b[1;31mFile:\u001b[0m      c:\\users\\lenovo\\appdata\\local\\temp\\ipykernel_13360\\3599159293.py\n",
       "\u001b[1;31mType:\u001b[0m      function"
      ]
     },
     "metadata": {},
     "output_type": "display_data"
    }
   ],
   "source": [
    "add_numbers?"
   ]
  },
  {
   "cell_type": "code",
   "execution_count": 21,
   "id": "128b962b",
   "metadata": {},
   "outputs": [
    {
     "data": {
      "text/plain": [
       "add_numbers.__reduce__\n",
       "add_numbers.__reduce_ex__"
      ]
     },
     "metadata": {},
     "output_type": "display_data"
    }
   ],
   "source": [
    "add_numbers.*reduce*?"
   ]
  },
  {
   "cell_type": "markdown",
   "id": "ad37fea8",
   "metadata": {},
   "source": [
    "### Variables and argument passing\n",
    "When assigning a variable (or name) in Python, you are creating a reference to the object shown on the righthand side of the equals sign."
   ]
  },
  {
   "cell_type": "code",
   "execution_count": 22,
   "id": "96d7ccb4",
   "metadata": {},
   "outputs": [],
   "source": [
    "a = [1, 2, 3]"
   ]
  },
  {
   "cell_type": "code",
   "execution_count": 23,
   "id": "dc370841",
   "metadata": {},
   "outputs": [],
   "source": [
    "b = a"
   ]
  },
  {
   "cell_type": "code",
   "execution_count": 24,
   "id": "34548b23",
   "metadata": {},
   "outputs": [
    {
     "data": {
      "text/plain": [
       "[1, 2, 3]"
      ]
     },
     "execution_count": 24,
     "metadata": {},
     "output_type": "execute_result"
    }
   ],
   "source": [
    "b"
   ]
  },
  {
   "cell_type": "markdown",
   "id": "8ec67bf1",
   "metadata": {},
   "source": [
    "In Python, a and b actually now refer to the same object, the original list [1, 2, 3]"
   ]
  },
  {
   "cell_type": "code",
   "execution_count": 25,
   "id": "d80b4b1e",
   "metadata": {},
   "outputs": [],
   "source": [
    "a.append(4)"
   ]
  },
  {
   "cell_type": "code",
   "execution_count": 26,
   "id": "bdc5c483",
   "metadata": {},
   "outputs": [
    {
     "data": {
      "text/plain": [
       "[1, 2, 3, 4]"
      ]
     },
     "execution_count": 26,
     "metadata": {},
     "output_type": "execute_result"
    }
   ],
   "source": [
    "b"
   ]
  },
  {
   "cell_type": "markdown",
   "id": "a80fb319",
   "metadata": {},
   "source": [
    "When you pass objects as arguments to a function, **new local variables are created** referencing the original objects without any copying."
   ]
  },
  {
   "cell_type": "code",
   "execution_count": 27,
   "id": "cfa7538b",
   "metadata": {},
   "outputs": [],
   "source": [
    "def append_element(some_list, element):\n",
    "    some_list.append(element)"
   ]
  },
  {
   "cell_type": "code",
   "execution_count": 28,
   "id": "546476ab",
   "metadata": {},
   "outputs": [],
   "source": [
    "data = [1, 2, 3]"
   ]
  },
  {
   "cell_type": "code",
   "execution_count": 29,
   "id": "7377e2e1",
   "metadata": {},
   "outputs": [],
   "source": [
    "append_element(data, 4)"
   ]
  },
  {
   "cell_type": "code",
   "execution_count": 30,
   "id": "e8734321",
   "metadata": {},
   "outputs": [
    {
     "data": {
      "text/plain": [
       "[1, 2, 3, 4]"
      ]
     },
     "execution_count": 30,
     "metadata": {},
     "output_type": "execute_result"
    }
   ],
   "source": [
    "data"
   ]
  },
  {
   "cell_type": "code",
   "execution_count": 31,
   "id": "749f63f3",
   "metadata": {},
   "outputs": [],
   "source": [
    "a = 5"
   ]
  },
  {
   "cell_type": "code",
   "execution_count": 32,
   "id": "0b073dc0",
   "metadata": {},
   "outputs": [
    {
     "data": {
      "text/plain": [
       "int"
      ]
     },
     "execution_count": 32,
     "metadata": {},
     "output_type": "execute_result"
    }
   ],
   "source": [
    "type(a)"
   ]
  },
  {
   "cell_type": "code",
   "execution_count": 33,
   "id": "c47fe2e7",
   "metadata": {},
   "outputs": [],
   "source": [
    "a = 'foo'"
   ]
  },
  {
   "cell_type": "code",
   "execution_count": 34,
   "id": "a4fb89b4",
   "metadata": {},
   "outputs": [
    {
     "data": {
      "text/plain": [
       "str"
      ]
     },
     "execution_count": 34,
     "metadata": {},
     "output_type": "execute_result"
    }
   ],
   "source": [
    "type(a)"
   ]
  },
  {
   "cell_type": "markdown",
   "id": "e435367c-e5ca-4f68-90e5-4f3a57020f86",
   "metadata": {},
   "source": [
    "### Type Conversion\n",
    "Python is a strongly typed language, which means that every object has a specific type (or class), and implicit conversions will occur only in certain permitted circumstances, such as:"
   ]
  },
  {
   "cell_type": "code",
   "execution_count": 35,
   "id": "c1868848",
   "metadata": {},
   "outputs": [],
   "source": [
    "a = 4.5; b = 2"
   ]
  },
  {
   "cell_type": "code",
   "execution_count": 36,
   "id": "59ad332b",
   "metadata": {},
   "outputs": [
    {
     "data": {
      "text/plain": [
       "\"a is <class 'float'>, b is <class 'int'>\""
      ]
     },
     "execution_count": 36,
     "metadata": {},
     "output_type": "execute_result"
    }
   ],
   "source": [
    "f'a is {type(a)}, b is {type(b)}'"
   ]
  },
  {
   "cell_type": "code",
   "execution_count": 37,
   "id": "cc0fe62b",
   "metadata": {},
   "outputs": [
    {
     "data": {
      "text/plain": [
       "2.25"
      ]
     },
     "execution_count": 37,
     "metadata": {},
     "output_type": "execute_result"
    }
   ],
   "source": [
    "a / b # Here, even though b is an integer, it is implicitly converted to a float for the division operation."
   ]
  },
  {
   "cell_type": "markdown",
   "id": "c1500de7-e011-4f43-908c-5816e8158674",
   "metadata": {},
   "source": [
    "### isinstance Function\n",
    "You can check that an object is an instance of a particular type using the isinstance function:"
   ]
  },
  {
   "cell_type": "code",
   "execution_count": 38,
   "id": "11d481d7-33dc-4ea7-a17d-16b8b0665e6b",
   "metadata": {},
   "outputs": [
    {
     "data": {
      "text/plain": [
       "True"
      ]
     },
     "execution_count": 38,
     "metadata": {},
     "output_type": "execute_result"
    }
   ],
   "source": [
    "a = 5\n",
    "isinstance(a, int)"
   ]
  },
  {
   "cell_type": "code",
   "execution_count": 39,
   "id": "379f3f39-5dd3-44ab-82d7-969800e71136",
   "metadata": {},
   "outputs": [
    {
     "data": {
      "text/plain": [
       "True"
      ]
     },
     "execution_count": 39,
     "metadata": {},
     "output_type": "execute_result"
    }
   ],
   "source": [
    "a = 4.5; b = 'Thorfinn'\n",
    "isinstance(a, (int, float))"
   ]
  },
  {
   "cell_type": "code",
   "execution_count": 40,
   "id": "8d4de0ae-e997-49ed-9c3f-f5663b59912d",
   "metadata": {},
   "outputs": [
    {
     "data": {
      "text/plain": [
       "True"
      ]
     },
     "execution_count": 40,
     "metadata": {},
     "output_type": "execute_result"
    }
   ],
   "source": [
    "isinstance(b, (int, float, str))"
   ]
  },
  {
   "cell_type": "markdown",
   "id": "0ab97510-c06e-433e-942a-26bd045028a2",
   "metadata": {},
   "source": [
    "### getattr Function\n",
    "Attributes and methods can be accessed by name via the getattr function:"
   ]
  },
  {
   "cell_type": "code",
   "execution_count": 41,
   "id": "54c96498-bf1d-4d8d-a813-92c0576fd82a",
   "metadata": {},
   "outputs": [],
   "source": [
    "a = 'Vinland Saga'"
   ]
  },
  {
   "cell_type": "code",
   "execution_count": 42,
   "id": "bc5dcc25-7419-44a5-8366-1d514eabdf18",
   "metadata": {},
   "outputs": [
    {
     "data": {
      "text/plain": [
       "<function str.split(sep=None, maxsplit=-1)>"
      ]
     },
     "execution_count": 42,
     "metadata": {},
     "output_type": "execute_result"
    }
   ],
   "source": [
    "getattr(a, 'split')"
   ]
  },
  {
   "cell_type": "code",
   "execution_count": 43,
   "id": "908284d9-c033-45e5-8e20-cfe51876c485",
   "metadata": {},
   "outputs": [],
   "source": [
    "class VinlandSaga:\n",
    "    name = 'Thorfinn'\n",
    "    country = 'Iceland'\n",
    "    ethnicity = 'Norse'"
   ]
  },
  {
   "cell_type": "code",
   "execution_count": 44,
   "id": "0af0852a-8439-4eb4-afcf-5828c5326cac",
   "metadata": {},
   "outputs": [
    {
     "data": {
      "text/plain": [
       "'Thorfinn'"
      ]
     },
     "execution_count": 44,
     "metadata": {},
     "output_type": "execute_result"
    }
   ],
   "source": [
    "getattr(VinlandSaga, 'name')"
   ]
  },
  {
   "cell_type": "markdown",
   "id": "b6dbdfc4-b304-4ce0-9c78-ce4707b4d6eb",
   "metadata": {},
   "source": [
    "### Duck Typing\n",
    "Often you may not care about the type of an object but rather only **whether it has certain methods or behavior**. This is sometimes called duck typing, after the saying \"If it walks like a duck and quacks like a duck, then it's a duck.\""
   ]
  },
  {
   "cell_type": "code",
   "execution_count": 45,
   "id": "f9b89e29-b57b-4b50-aee6-9685213fb93e",
   "metadata": {},
   "outputs": [],
   "source": [
    "def isiterable(obj):\n",
    "    try:\n",
    "        iter(obj)\n",
    "        return True\n",
    "    except TypeError: # not iterable\n",
    "        return False"
   ]
  },
  {
   "cell_type": "code",
   "execution_count": 46,
   "id": "e39b385c-57b4-4a83-b936-38702ca98a6f",
   "metadata": {},
   "outputs": [
    {
     "data": {
      "text/plain": [
       "True"
      ]
     },
     "execution_count": 46,
     "metadata": {},
     "output_type": "execute_result"
    }
   ],
   "source": [
    "isiterable('a string')"
   ]
  },
  {
   "cell_type": "code",
   "execution_count": 47,
   "id": "f5c34dbf-f49f-49cc-89a5-f596a624275f",
   "metadata": {},
   "outputs": [
    {
     "data": {
      "text/plain": [
       "True"
      ]
     },
     "execution_count": 47,
     "metadata": {},
     "output_type": "execute_result"
    }
   ],
   "source": [
    "isiterable([1, 2, 3])"
   ]
  },
  {
   "cell_type": "code",
   "execution_count": 48,
   "id": "5ebee1f3-41af-4f00-ab0b-13b06ef9acd6",
   "metadata": {},
   "outputs": [
    {
     "data": {
      "text/plain": [
       "False"
      ]
     },
     "execution_count": 48,
     "metadata": {},
     "output_type": "execute_result"
    }
   ],
   "source": [
    "isiterable(5)"
   ]
  },
  {
   "cell_type": "markdown",
   "id": "5b7553da-6531-4826-b409-1079da87e49c",
   "metadata": {},
   "source": [
    "### Imports\n",
    "In Python, a module is simply a file with the .py extension containing Python code.\n",
    "\n",
    "If we wanted to **access the variables and functions** defined in some_module.py, from another file in the same directory we could do:"
   ]
  },
  {
   "cell_type": "code",
   "execution_count": 49,
   "id": "7dc4d205-103b-4eb0-8673-a15b74c53051",
   "metadata": {},
   "outputs": [],
   "source": [
    "import some_module as sm\n",
    "from some_module import PI as pi, g as gf\n",
    "\n",
    "r1 = gf(3, 4)\n",
    "r2 = pi\n",
    "r3 = sm.f(4)\n",
    "r4 = sm.PI + 1"
   ]
  },
  {
   "cell_type": "code",
   "execution_count": 50,
   "id": "cb80d500-0524-4dca-9a35-c787e132854e",
   "metadata": {},
   "outputs": [
    {
     "name": "stdout",
     "output_type": "stream",
     "text": [
      "7\n",
      "3.14159\n",
      "6\n",
      "4.14159\n"
     ]
    }
   ],
   "source": [
    "print(r1)\n",
    "print(r2)\n",
    "print(r3)\n",
    "print(r4)"
   ]
  },
  {
   "cell_type": "markdown",
   "id": "3d57e108-79bd-4852-848c-b4830200334c",
   "metadata": {},
   "source": [
    "### Binary Operators and Comparisons"
   ]
  },
  {
   "cell_type": "code",
   "execution_count": 51,
   "id": "dcbb6dd3-0a41-4d3f-a10f-6021f9a283b9",
   "metadata": {},
   "outputs": [],
   "source": [
    "a = 15\n",
    "b = 2\n",
    "c = True\n",
    "d = True\n",
    "e = True\n",
    "f = False"
   ]
  },
  {
   "cell_type": "code",
   "execution_count": 52,
   "id": "51250ffa-549f-4c50-ac5d-c0725e21655a",
   "metadata": {},
   "outputs": [
    {
     "data": {
      "text/plain": [
       "17"
      ]
     },
     "execution_count": 52,
     "metadata": {},
     "output_type": "execute_result"
    }
   ],
   "source": [
    "a + b # addition"
   ]
  },
  {
   "cell_type": "code",
   "execution_count": 53,
   "id": "4324e5ad-21dc-43d5-8641-e509aa5e20d5",
   "metadata": {},
   "outputs": [
    {
     "data": {
      "text/plain": [
       "13"
      ]
     },
     "execution_count": 53,
     "metadata": {},
     "output_type": "execute_result"
    }
   ],
   "source": [
    "a - b # subtraction"
   ]
  },
  {
   "cell_type": "code",
   "execution_count": 54,
   "id": "112e77c7-71a5-4654-92de-e9d2766c2c74",
   "metadata": {},
   "outputs": [
    {
     "data": {
      "text/plain": [
       "30"
      ]
     },
     "execution_count": 54,
     "metadata": {},
     "output_type": "execute_result"
    }
   ],
   "source": [
    "a * b # multiplication"
   ]
  },
  {
   "cell_type": "code",
   "execution_count": 55,
   "id": "e1e8740f-da9a-4dec-ab9e-86193df80fba",
   "metadata": {},
   "outputs": [
    {
     "data": {
      "text/plain": [
       "7.5"
      ]
     },
     "execution_count": 55,
     "metadata": {},
     "output_type": "execute_result"
    }
   ],
   "source": [
    "a / b # division"
   ]
  },
  {
   "cell_type": "code",
   "execution_count": 56,
   "id": "423aafaf-a8f6-4eae-b6f4-f83e164964dc",
   "metadata": {},
   "outputs": [
    {
     "data": {
      "text/plain": [
       "7"
      ]
     },
     "execution_count": 56,
     "metadata": {},
     "output_type": "execute_result"
    }
   ],
   "source": [
    "a // b # division, dropping any fractional remainder"
   ]
  },
  {
   "cell_type": "code",
   "execution_count": 57,
   "id": "dc8c674b-35e1-4e7e-9486-134e073b5beb",
   "metadata": {},
   "outputs": [
    {
     "data": {
      "text/plain": [
       "225"
      ]
     },
     "execution_count": 57,
     "metadata": {},
     "output_type": "execute_result"
    }
   ],
   "source": [
    "a ** b # a raised to the power b"
   ]
  },
  {
   "cell_type": "code",
   "execution_count": 58,
   "id": "72aa7037-16e8-44fc-9cb2-ceba777cc6c9",
   "metadata": {},
   "outputs": [
    {
     "name": "stdout",
     "output_type": "stream",
     "text": [
      "2\n",
      "True\n"
     ]
    }
   ],
   "source": [
    "print(a & b) # bitwise AND Operator, for integers\n",
    "print(c & d) # bitwise AND Operator, for booleans"
   ]
  },
  {
   "cell_type": "code",
   "execution_count": 59,
   "id": "5ddfa72b-9c9d-4f4c-b5a2-550530ee4622",
   "metadata": {},
   "outputs": [
    {
     "name": "stdout",
     "output_type": "stream",
     "text": [
      "15\n",
      "True\n"
     ]
    }
   ],
   "source": [
    "print(a | b) # bitwise OR Operator, for integers\n",
    "print(e | f) # bitwise OR Operator, for booleans"
   ]
  },
  {
   "cell_type": "code",
   "execution_count": 60,
   "id": "b4d97c2d-1146-41c2-b743-c92756dc184e",
   "metadata": {},
   "outputs": [
    {
     "name": "stdout",
     "output_type": "stream",
     "text": [
      "13\n",
      "False\n",
      "True\n"
     ]
    }
   ],
   "source": [
    "print(a ^ b) # bitwise XOR Operator, for integers\n",
    "print(c ^ d) # bitwise XOR Operator, for Booleans\n",
    "print(e ^ f) # bitwise XOR Operator, for Booleans"
   ]
  },
  {
   "cell_type": "code",
   "execution_count": 61,
   "id": "24fb8ed8-2dfd-47d1-ba68-20df8fb1739a",
   "metadata": {},
   "outputs": [],
   "source": [
    "bi_2 = 0b10 # number 2 as binary literal\n",
    "bi_3 = 0b11 # number 3 as binary literal"
   ]
  },
  {
   "cell_type": "code",
   "execution_count": 62,
   "id": "4df33d75-2c43-4785-982a-55d77d49b4ff",
   "metadata": {},
   "outputs": [
    {
     "data": {
      "text/plain": [
       "5"
      ]
     },
     "execution_count": 62,
     "metadata": {},
     "output_type": "execute_result"
    }
   ],
   "source": [
    "bi_2 + bi_3"
   ]
  },
  {
   "cell_type": "code",
   "execution_count": 63,
   "id": "2d1676f3-28a5-4d93-acbc-772ec1a04e45",
   "metadata": {},
   "outputs": [
    {
     "data": {
      "text/plain": [
       "False"
      ]
     },
     "execution_count": 63,
     "metadata": {},
     "output_type": "execute_result"
    }
   ],
   "source": [
    "a == b # True if a equals b"
   ]
  },
  {
   "cell_type": "code",
   "execution_count": 64,
   "id": "84c5177f-507b-44f6-932b-9cfa4eef2e7f",
   "metadata": {},
   "outputs": [
    {
     "data": {
      "text/plain": [
       "True"
      ]
     },
     "execution_count": 64,
     "metadata": {},
     "output_type": "execute_result"
    }
   ],
   "source": [
    "a != b # True if a is not equal to b"
   ]
  },
  {
   "cell_type": "code",
   "execution_count": 65,
   "id": "629cf2cd-c320-4306-becd-ff028912f425",
   "metadata": {},
   "outputs": [
    {
     "name": "stdout",
     "output_type": "stream",
     "text": [
      "False\n",
      "False\n"
     ]
    }
   ],
   "source": [
    "print(a < b) # less than\n",
    "print(a <= b) # less than or equal to"
   ]
  },
  {
   "cell_type": "code",
   "execution_count": 66,
   "id": "17329313-434e-4c07-a165-3bebd3de87eb",
   "metadata": {},
   "outputs": [
    {
     "name": "stdout",
     "output_type": "stream",
     "text": [
      "True\n",
      "True\n"
     ]
    }
   ],
   "source": [
    "print(a > b) # greater than\n",
    "print(a >= b) # greater than or equal to"
   ]
  },
  {
   "cell_type": "markdown",
   "id": "2bf22b17-a9f6-47ef-aa34-462072fc40ed",
   "metadata": {},
   "source": [
    "### is Operator\n",
    "To check if two variables refer to the same object, use the `is` keyword. Use is not to check that two objects are not the same:"
   ]
  }
 ],
 "metadata": {
  "kernelspec": {
   "display_name": "Python 3 (ipykernel)",
   "language": "python",
   "name": "python3"
  },
  "language_info": {
   "codemirror_mode": {
    "name": "ipython",
    "version": 3
   },
   "file_extension": ".py",
   "mimetype": "text/x-python",
   "name": "python",
   "nbconvert_exporter": "python",
   "pygments_lexer": "ipython3",
   "version": "3.13.1"
  }
 },
 "nbformat": 4,
 "nbformat_minor": 5
}
